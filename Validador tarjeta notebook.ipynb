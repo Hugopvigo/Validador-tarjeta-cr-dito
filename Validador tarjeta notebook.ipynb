{
 "metadata": {
  "language_info": {
   "codemirror_mode": {
    "name": "ipython",
    "version": 3
   },
   "file_extension": ".py",
   "mimetype": "text/x-python",
   "name": "python",
   "nbconvert_exporter": "python",
   "pygments_lexer": "ipython3",
   "version": "3.8.1"
  },
  "orig_nbformat": 4,
  "kernelspec": {
   "name": "python3",
   "display_name": "Python 3.8.1 64-bit"
  },
  "interpreter": {
   "hash": "1e5fc661c2143ee8682e7fb61f54d0e9c09683fa86bdff1ed23042dcee9d7cba"
  }
 },
 "nbformat": 4,
 "nbformat_minor": 2,
 "cells": [
  {
   "cell_type": "code",
   "execution_count": 1,
   "metadata": {},
   "outputs": [
    {
     "output_type": "stream",
     "name": "stdout",
     "text": [
      "Company: VISA\nCard:  4121\nVerificación: Tarjeta de crédito no válida\n"
     ]
    }
   ],
   "source": [
    "class creditCard:\n",
    "    def __init__(self,card_no):\n",
    "        self.card_no = card_no\n",
    "  \n",
    "    @classmethod\n",
    "    def set_card(self,card_to_check):\n",
    "        return self(card_to_check)\n",
    "\n",
    "    @property\n",
    "    def company(self):\n",
    "        comp = None\n",
    "        if str(self.card_no).startswith('4'):\n",
    "            comp = 'VISA'\n",
    "        elif str(self.card_no).startswith(('50','67','58','63')):\n",
    "            comp='MAESTRO'\n",
    "\n",
    "        elif str(self.card_no).startswith('5'):\n",
    "            comp='MASTER CARD'\n",
    "        elif str(self.card_no).startswith('37'):\n",
    "            comp='AMEX'\n",
    "\n",
    "# Ver si hay más tarjetas. Euro6000 y similares\n",
    "\n",
    "        return 'Company: ' +comp\n",
    "\n",
    "    def first_check(self):\n",
    "        if 13 <= len(self.card_no) <= 19:\n",
    "            message = \"Verificación: Tarjeta de crédito válida\"\n",
    "\n",
    "        else:\n",
    "            message = \"Verificación: Tarjeta de crédito no válida\"\n",
    "\n",
    "        return message\n",
    "\n",
    "\n",
    "card_number = input(\"Introduce el número de la tarjeta: \")\n",
    "card = creditCard.set_card(card_number)\n",
    "print(card.company)\n",
    "\n",
    "print('Card: ',card.card_no)\n",
    "print(card.first_check())\n"
   ]
  },
  {
   "cell_type": "code",
   "execution_count": null,
   "metadata": {},
   "outputs": [],
   "source": []
  }
 ]
}